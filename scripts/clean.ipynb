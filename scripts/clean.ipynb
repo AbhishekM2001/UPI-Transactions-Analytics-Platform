{
 "cells": [
  {
   "cell_type": "code",
   "execution_count": null,
   "metadata": {},
   "outputs": [],
   "source": [
    "import pandas as pd"
   ]
  },
  {
   "cell_type": "code",
   "execution_count": 34,
   "metadata": {},
   "outputs": [],
   "source": [
    "df = pd.read_excel('./Dataset/Raw/upi_dataset_2025-01.XLSX', header=None, skiprows=3)  # Skip title and header rows\n",
    "# df = pd.read_csv('./Dataset/upi_dataset.csv', header=None, skiprows=3)  # Skip title and header rows"
   ]
  },
  {
   "cell_type": "code",
   "execution_count": 35,
   "metadata": {},
   "outputs": [
    {
     "name": "stdout",
     "output_type": "stream",
     "text": [
      "    0    1                    2                  3                  4  \\\n",
      "0 NaN  NaN                  NaN  Volume\\n(in Lakh)  Value\\n(in Crore)   \n",
      "1 NaN  1.0             Yes Bank         1419.08923       23323.009131   \n",
      "2 NaN  2.0  State Bank of India        42550.02386      616384.749154   \n",
      "3 NaN  3.0            Axis Bank         7854.16442      127816.823895   \n",
      "4 NaN  4.0            HDFC Bank        13764.25952      258189.863808   \n",
      "\n",
      "                   5                  6  \n",
      "0  Volume\\n(in Lakh)  Value\\n(in Crore)  \n",
      "1        67390.86203      223325.930295  \n",
      "2         17170.5503      447022.566577  \n",
      "3        17284.46863      215424.618604  \n",
      "4         8015.67954      251080.476562  \n"
     ]
    }
   ],
   "source": [
    "print(df.head())"
   ]
  },
  {
   "cell_type": "code",
   "execution_count": 36,
   "metadata": {},
   "outputs": [],
   "source": [
    "df=df.drop(columns=[0])  "
   ]
  },
  {
   "cell_type": "code",
   "execution_count": 37,
   "metadata": {},
   "outputs": [
    {
     "name": "stdout",
     "output_type": "stream",
     "text": [
      "     1                    2                  3                  4  \\\n",
      "0  NaN                  NaN  Volume\\n(in Lakh)  Value\\n(in Crore)   \n",
      "1  1.0             Yes Bank         1419.08923       23323.009131   \n",
      "2  2.0  State Bank of India        42550.02386      616384.749154   \n",
      "3  3.0            Axis Bank         7854.16442      127816.823895   \n",
      "4  4.0            HDFC Bank        13764.25952      258189.863808   \n",
      "\n",
      "                   5                  6  \n",
      "0  Volume\\n(in Lakh)  Value\\n(in Crore)  \n",
      "1        67390.86203      223325.930295  \n",
      "2         17170.5503      447022.566577  \n",
      "3        17284.46863      215424.618604  \n",
      "4         8015.67954      251080.476562  \n"
     ]
    }
   ],
   "source": [
    "print(df.head())"
   ]
  },
  {
   "cell_type": "code",
   "execution_count": 38,
   "metadata": {},
   "outputs": [],
   "source": [
    "\n",
    "# Manual column naming \n",
    "df.columns = [\n",
    "    'sr_no',\n",
    "    'entity_name',\n",
    "    'remitter_volume_lakh',\n",
    "    'remitter_value_cr',\n",
    "    'beneficiary_volume_lakh',\n",
    "    'beneficiary_value_cr'\n",
    "]\n",
    "\n",
    "# Remove rows with NULL entity names\n",
    "df = df[df['entity_name'].notna()]\n"
   ]
  },
  {
   "cell_type": "code",
   "execution_count": 39,
   "metadata": {},
   "outputs": [
    {
     "name": "stdout",
     "output_type": "stream",
     "text": [
      "   sr_no          entity_name remitter_volume_lakh remitter_value_cr  \\\n",
      "1    1.0             Yes Bank           1419.08923      23323.009131   \n",
      "2    2.0  State Bank of India          42550.02386     616384.749154   \n",
      "3    3.0            Axis Bank           7854.16442     127816.823895   \n",
      "4    4.0            HDFC Bank          13764.25952     258189.863808   \n",
      "5    5.0       Bank of Baroda          10631.56968     141845.123149   \n",
      "\n",
      "  beneficiary_volume_lakh beneficiary_value_cr  \n",
      "1             67390.86203        223325.930295  \n",
      "2              17170.5503        447022.566577  \n",
      "3             17284.46863        215424.618604  \n",
      "4              8015.67954        251080.476562  \n",
      "5              4630.72149        110818.875731  \n"
     ]
    }
   ],
   "source": [
    "print(df.head())"
   ]
  },
  {
   "cell_type": "code",
   "execution_count": 44,
   "metadata": {},
   "outputs": [
    {
     "name": "stdout",
     "output_type": "stream",
     "text": [
      "2025-01\n"
     ]
    }
   ],
   "source": [
    "print('upi_dataset_2025-01'[-7:])"
   ]
  },
  {
   "cell_type": "code",
   "execution_count": null,
   "metadata": {},
   "outputs": [
    {
     "name": "stdout",
     "output_type": "stream",
     "text": [
      "   sr_no          entity_name remitter_volume_lakh remitter_value_cr  \\\n",
      "1    1.0             Yes Bank           1419.08923      23323.009131   \n",
      "2    2.0  State Bank of India          42550.02386     616384.749154   \n",
      "3    3.0            Axis Bank           7854.16442     127816.823895   \n",
      "4    4.0            HDFC Bank          13764.25952     258189.863808   \n",
      "5    5.0       Bank of Baroda          10631.56968     141845.123149   \n",
      "\n",
      "  beneficiary_volume_lakh beneficiary_value_cr    month  \n",
      "1             67390.86203        223325.930295  2025-01  \n",
      "2              17170.5503        447022.566577  2025-01  \n",
      "3             17284.46863        215424.618604  2025-01  \n",
      "4              8015.67954        251080.476562  2025-01  \n",
      "5              4630.72149        110818.875731  2025-01  \n",
      "   sr_no          entity_name remitter_volume_lakh remitter_value_cr  \\\n",
      "1      1             Yes Bank           1419.08923      23323.009131   \n",
      "2      2  State Bank of India          42550.02386     616384.749154   \n",
      "3      3            Axis Bank           7854.16442     127816.823895   \n",
      "4      4            HDFC Bank          13764.25952     258189.863808   \n",
      "5      5       Bank of Baroda          10631.56968     141845.123149   \n",
      "\n",
      "  beneficiary_volume_lakh beneficiary_value_cr    month  \n",
      "1             67390.86203        223325.930295  2025-01  \n",
      "2              17170.5503        447022.566577  2025-01  \n",
      "3             17284.46863        215424.618604  2025-01  \n",
      "4              8015.67954        251080.476562  2025-01  \n",
      "5              4630.72149        110818.875731  2025-01  \n"
     ]
    }
   ],
   "source": [
    "monthyear='upi_dataset_2025-01'[-7:]  # Extracting the month-year from the filename\n",
    "\n",
    "# Convert the month-year string to a datetime object\n",
    "month = datetime.strptime(monthyear, '%Y-%m').strftime('%Y-%m')\n",
    "# Add a new column with the month-year\n",
    "df['month'] = month\n",
    "\n",
    "# Convert the 'sr_no' column to numeric, forcing errors to NaN\n",
    "df['sr_no'] = pd.to_numeric(df['sr_no'], errors='coerce')\n",
    "# Drop rows where 'sr_no' is NaN\n",
    "df = df.dropna(subset=['sr_no'])\n",
    "# Convert 'sr_no' back to integer\n",
    "df['sr_no'] = df['sr_no'].astype(int)\n",
    "print(df.head())\n"
   ]
  },
  {
   "cell_type": "code",
   "execution_count": 47,
   "metadata": {},
   "outputs": [],
   "source": [
    "df = df[df['entity_name'] != 'Total']"
   ]
  },
  {
   "cell_type": "code",
   "execution_count": 50,
   "metadata": {},
   "outputs": [],
   "source": [
    "\n",
    "# Save cleaned CSV\n",
    "df.to_csv(f'./Dataset/Cleaned/cleaned_upi_dataset_{monthyear}.csv', index=False)"
   ]
  }
 ],
 "metadata": {
  "kernelspec": {
   "display_name": "Python 3",
   "language": "python",
   "name": "python3"
  },
  "language_info": {
   "codemirror_mode": {
    "name": "ipython",
    "version": 3
   },
   "file_extension": ".py",
   "mimetype": "text/x-python",
   "name": "python",
   "nbconvert_exporter": "python",
   "pygments_lexer": "ipython3",
   "version": "3.10.1"
  }
 },
 "nbformat": 4,
 "nbformat_minor": 2
}
